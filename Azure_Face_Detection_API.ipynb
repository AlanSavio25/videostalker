{
 "cells": [
  {
   "cell_type": "code",
   "execution_count": 1,
   "metadata": {
    "collapsed": true
   },
   "outputs": [],
   "source": [
    "import json\n",
    "import requests\n",
    "import azure\n",
    "import azure.cognitiveservices\n",
    "import azureml.core\n",
    "from azureml.core import Workspace\n",
    "from msrest.authentication import CognitiveServicesCredentials\n",
    "import requests\n",
    "from io import BytesIO\n",
    "from PIL import Image, ImageDraw\n",
    "from pprint import pprint\n",
    "import json\n"
   ]
  },
  {
   "cell_type": "code",
   "execution_count": 2,
   "metadata": {},
   "outputs": [
    {
     "name": "stdout",
     "output_type": "stream",
     "text": [
      "[{'faceAttributes': {'accessories': [],\n",
      "                     'age': 54.0,\n",
      "                     'blur': {'blurLevel': 'low', 'value': 0.14},\n",
      "                     'emotion': {'anger': 0.009,\n",
      "                                 'contempt': 0.011,\n",
      "                                 'disgust': 0.001,\n",
      "                                 'fear': 0.001,\n",
      "                                 'happiness': 0.001,\n",
      "                                 'neutral': 0.911,\n",
      "                                 'sadness': 0.065,\n",
      "                                 'surprise': 0.001},\n",
      "                     'exposure': {'exposureLevel': 'goodExposure',\n",
      "                                  'value': 0.55},\n",
      "                     'facialHair': {'beard': 0.1,\n",
      "                                    'moustache': 0.1,\n",
      "                                    'sideburns': 0.1},\n",
      "                     'gender': 'male',\n",
      "                     'glasses': 'NoGlasses',\n",
      "                     'hair': {'bald': 0.75,\n",
      "                              'hairColor': [{'color': 'gray',\n",
      "                                             'confidence': 1.0},\n",
      "                                            {'color': 'black',\n",
      "                                             'confidence': 0.94},\n",
      "                                            {'color': 'other',\n",
      "                                             'confidence': 0.69},\n",
      "                                            {'color': 'blond',\n",
      "                                             'confidence': 0.47},\n",
      "                                            {'color': 'brown',\n",
      "                                             'confidence': 0.03},\n",
      "                                            {'color': 'red',\n",
      "                                             'confidence': 0.0}],\n",
      "                              'invisible': False},\n",
      "                     'headPose': {'pitch': 6.3, 'roll': 1.1, 'yaw': 17.1},\n",
      "                     'makeup': {'eyeMakeup': False, 'lipMakeup': False},\n",
      "                     'noise': {'noiseLevel': 'low', 'value': 0.0},\n",
      "                     'occlusion': {'eyeOccluded': False,\n",
      "                                   'foreheadOccluded': False,\n",
      "                                   'mouthOccluded': False},\n",
      "                     'smile': 0.001},\n",
      "  'faceId': '35d65364-22d1-4bf9-86fe-ade28ecedf62',\n",
      "  'faceRectangle': {'height': 189, 'left': 222, 'top': 68, 'width': 189}}]\n"
     ]
    }
   ],
   "source": [
    "subscription_key = 'acbe211ce52c40a5a09be5392863ddfa'\n",
    "assert subscription_key\n",
    "\n",
    "face_api_url = 'https://facedetectionanshul.cognitiveservices.azure.com/face/v1.0/detect'\n",
    "\n",
    "headers = {'Ocp-Apim-Subscription-Key': subscription_key}\n",
    "\n",
    "params = {\n",
    "    'returnFaceId': 'true',\n",
    "    'returnFaceLandmarks': 'false',\n",
    "    'returnFaceAttributes': 'age,gender,headPose,smile,facialHair,glasses,emotion,hair,makeup,occlusion,accessories,blur,exposure,noise',\n",
    "} \n",
    "\n",
    "img_url1 = 'https://images.performgroup.com/di/library/omnisport/a4/1b/lionelmessi-cropped_1gkj19cowm6ee1rntkhz44784v.jpg?t=1579297980&quality=60&w=640&h=360'\n",
    "img_url2 = 'https://pmcdeadline2.files.wordpress.com/2019/08/barack-obama.jpg?w=681&h=383&crop=1'\n",
    "\n",
    "\n",
    "\n",
    "response  = requests.post(face_api_url,params=params, headers=headers,  json={\"url\": img_url2})\n",
    "\n",
    "faces = response.json()\n",
    "\n",
    "#faces = json.dumps(response.json(),indent=2)\n",
    "\n",
    "#print(json.dumps(response.json(),indent=2))\n",
    "\n",
    "pprint(faces)"
   ]
  },
  {
   "cell_type": "code",
   "execution_count": 3,
   "metadata": {
    "collapsed": true
   },
   "outputs": [],
   "source": [
    "def getRectangle(faceDictionary):\n",
    "    rect = faceDictionary['faceRectangle']\n",
    "    left = rect['left']\n",
    "    top = rect['top']\n",
    "    bottom = left + rect['height']\n",
    "    right = top + rect['width']\n",
    "    return ((left, top), (bottom, right))\n",
    "\n",
    "# Download the image from the url\n",
    "response = requests.get(img_url2)\n",
    "img = Image.open(BytesIO(response.content))\n",
    "\n",
    "# For each face returned use the face rectangle and draw a red box.\n",
    "draw = ImageDraw.Draw(img)\n",
    "for face in faces:\n",
    "    draw.rectangle(getRectangle(face), outline='red')\n",
    "\n",
    "# Display the image in the users default image browser.\n",
    "#img.show()"
   ]
  },
  {
   "cell_type": "code",
   "execution_count": 4,
   "metadata": {},
   "outputs": [
    {
     "name": "stdout",
     "output_type": "stream",
     "text": [
      "{'anger': 0.009,\n",
      " 'contempt': 0.011,\n",
      " 'disgust': 0.001,\n",
      " 'fear': 0.001,\n",
      " 'happiness': 0.001,\n",
      " 'neutral': 0.911,\n",
      " 'sadness': 0.065,\n",
      " 'surprise': 0.001}\n"
     ]
    }
   ],
   "source": [
    "for i in range(len(faces)):\n",
    "    face_emotion = faces[i]['faceAttributes']['emotion']\n",
    "    pprint(face_emotion)\n",
    "    "
   ]
  },
  {
   "cell_type": "code",
   "execution_count": 5,
   "metadata": {},
   "outputs": [
    {
     "name": "stdout",
     "output_type": "stream",
     "text": [
      "{'anger': 0.0,\n",
      " 'contempt': 0.0,\n",
      " 'disgust': 0.0,\n",
      " 'fear': 0.0,\n",
      " 'happiness': 0.0,\n",
      " 'neutral': 0.0,\n",
      " 'sadness': 0.0,\n",
      " 'surprise': 1.0}\n"
     ]
    }
   ],
   "source": [
    "# Emotion detection for one frame\n",
    "\n",
    "data = open('Videoframes/frame203.jpg', 'rb')\n",
    "\n",
    "headers = {'Content-Type': 'application/octet-stream','Ocp-Apim-Subscription-Key': subscription_key}\n",
    "\n",
    "img = open('Videoframes/frame203.jpg', 'rb')\n",
    "response  = requests.post(face_api_url,params=params, headers=headers,  data=img)\n",
    "faces = response.json()\n",
    "\n",
    "for i in range(len(faces)):\n",
    "    face_emotion = faces[i]['faceAttributes']['emotion']\n",
    "    pprint(face_emotion)"
   ]
  },
  {
   "cell_type": "code",
   "execution_count": null,
   "metadata": {
    "collapsed": true
   },
   "outputs": [],
   "source": []
  }
 ],
 "metadata": {
  "kernelspec": {
   "display_name": "Python 3",
   "language": "python",
   "name": "python3"
  },
  "language_info": {
   "codemirror_mode": {
    "name": "ipython",
    "version": 3
   },
   "file_extension": ".py",
   "mimetype": "text/x-python",
   "name": "python",
   "nbconvert_exporter": "python",
   "pygments_lexer": "ipython3",
   "version": "3.6.3"
  }
 },
 "nbformat": 4,
 "nbformat_minor": 2
}
